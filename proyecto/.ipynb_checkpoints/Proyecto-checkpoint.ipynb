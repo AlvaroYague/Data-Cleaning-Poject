{
 "cells": [
  {
   "cell_type": "markdown",
   "id": "50e1f5eb",
   "metadata": {},
   "source": [
    "**SHARKNADO 2: AHORA ES PERSONAL**"
   ]
  },
  {
   "cell_type": "code",
   "execution_count": 2,
   "id": "b2d43054",
   "metadata": {},
   "outputs": [],
   "source": [
    "import numpy as np\n",
    "import pandas as pd\n",
    "pd.set_option('display.max_columns', None)\n",
    "import seaborn as sns\n",
    "import warnings\n",
    "warnings.filterwarnings('ignore')"
   ]
  },
  {
   "cell_type": "code",
   "execution_count": 3,
   "id": "7cf74cb9",
   "metadata": {
    "scrolled": true
   },
   "outputs": [],
   "source": [
    "df = pd.read_csv('C:\\\\Users\\\\Álvaro\\\\Desktop\\\\ironhack\\\\Data-Cleaning-Poject\\\\proyecto\\\\attacks.csv', encoding = 'latin-1')"
   ]
  },
  {
   "cell_type": "code",
   "execution_count": 4,
   "id": "d0a565bb",
   "metadata": {},
   "outputs": [
    {
     "data": {
      "text/plain": [
       "(25723, 24)"
      ]
     },
     "execution_count": 4,
     "metadata": {},
     "output_type": "execute_result"
    }
   ],
   "source": [
    "df.shape"
   ]
  },
  {
   "cell_type": "code",
   "execution_count": 5,
   "id": "31e9cc2a",
   "metadata": {},
   "outputs": [
    {
     "data": {
      "text/plain": [
       "Case Number               17021\n",
       "Date                      19421\n",
       "Year                      19423\n",
       "Type                      19425\n",
       "Country                   19471\n",
       "Area                      19876\n",
       "Location                  19961\n",
       "Activity                  19965\n",
       "Name                      19631\n",
       "Sex                       19986\n",
       "Age                       22252\n",
       "Injury                    19449\n",
       "Fatal (Y/N)               19960\n",
       "Time                      22775\n",
       "Species                   22259\n",
       "Investigator or Source    19438\n",
       "pdf                       19421\n",
       "href formula              19422\n",
       "href                      19421\n",
       "Case Number.1             19421\n",
       "Case Number.2             19421\n",
       "original order            19414\n",
       "Unnamed: 22               25722\n",
       "Unnamed: 23               25721\n",
       "dtype: int64"
      ]
     },
     "execution_count": 5,
     "metadata": {},
     "output_type": "execute_result"
    }
   ],
   "source": [
    "df.isna().sum()   # Comprobamos los nulos"
   ]
  },
  {
   "cell_type": "code",
   "execution_count": 6,
   "id": "9d61026d",
   "metadata": {},
   "outputs": [],
   "source": [
    "df = df.dropna(how='all') # Quitamos las columnas cuyos valores sean todos nulos"
   ]
  },
  {
   "cell_type": "code",
   "execution_count": 7,
   "id": "b15d4640",
   "metadata": {},
   "outputs": [],
   "source": [
    "columnas = ['Case Number','original order']  # Otra limpieza de nulos, esta vez que todas las columnas lo sean a excepción de esas dos\n",
    "df = df.dropna(subset=df.columns.difference(columnas), how='all')"
   ]
  },
  {
   "cell_type": "markdown",
   "id": "0d0eb6d5",
   "metadata": {},
   "source": [
    "**SEXO**"
   ]
  },
  {
   "cell_type": "code",
   "execution_count": 8,
   "id": "771c2040",
   "metadata": {},
   "outputs": [
    {
     "data": {
      "text/plain": [
       "array(['F', 'M', nan, 'M ', 'lli', 'N', '.'], dtype=object)"
      ]
     },
     "execution_count": 8,
     "metadata": {},
     "output_type": "execute_result"
    }
   ],
   "source": [
    "# Para la columna del sexo de la víctima: primero vemos qué valores únicos existen.\n",
    "\n",
    "df['Sex '].unique()"
   ]
  },
  {
   "cell_type": "code",
   "execution_count": 9,
   "id": "5f3c3852",
   "metadata": {},
   "outputs": [],
   "source": [
    "# Sustituimos y/o corregimos lo valores\n",
    "\n",
    "df['Sex '] = df['Sex '].fillna('Unknown')\n",
    "df['Sex '] = df['Sex '].replace (\"M \", \"M\")\n",
    "df['Sex '] = df['Sex '].replace (\".\", \"Unknown\")"
   ]
  },
  {
   "cell_type": "markdown",
   "id": "5738c9b0",
   "metadata": {},
   "source": [
    "**FATALIDAD**"
   ]
  },
  {
   "cell_type": "code",
   "execution_count": 10,
   "id": "7deee9f2",
   "metadata": {},
   "outputs": [],
   "source": [
    "# Para la columna de fatalidad, primero sustiuimos los valores nulos\n",
    "\n",
    "df['Fatal (Y/N)'] = df['Fatal (Y/N)'].fillna('UNKNOWN')"
   ]
  },
  {
   "cell_type": "code",
   "execution_count": 11,
   "id": "1124a140",
   "metadata": {},
   "outputs": [],
   "source": [
    "#Checkeamos los valores únicos y unificamos/corregimos\n",
    "\n",
    "df['Fatal (Y/N)'].unique()\n",
    "df['Fatal (Y/N)'] = df['Fatal (Y/N)'].replace (\" N\", \"N\")\n",
    "df['Fatal (Y/N)'] = df['Fatal (Y/N)'].replace (\"N \", \"N\")\n",
    "df['Fatal (Y/N)'] = df['Fatal (Y/N)'].replace (\"y\", \"Y\")\n",
    "df['Fatal (Y/N)'] = df['Fatal (Y/N)'].replace (\"M\", \"N\")\n",
    "df['Fatal (Y/N)'] = df['Fatal (Y/N)'].replace (\"2017\", \"N\")"
   ]
  },
  {
   "cell_type": "code",
   "execution_count": 12,
   "id": "59f91032",
   "metadata": {},
   "outputs": [
    {
     "data": {
      "text/plain": [
       "array(['N', 'Y', 'UNKNOWN'], dtype=object)"
      ]
     },
     "execution_count": 12,
     "metadata": {},
     "output_type": "execute_result"
    }
   ],
   "source": [
    "df['Fatal (Y/N)'].unique()"
   ]
  },
  {
   "cell_type": "markdown",
   "id": "0fedb31c",
   "metadata": {},
   "source": [
    "**TIPO DE ATAQUE**"
   ]
  },
  {
   "cell_type": "code",
   "execution_count": 13,
   "id": "c1a50517",
   "metadata": {},
   "outputs": [
    {
     "data": {
      "text/plain": [
       "array(['Boating', 'Unprovoked', 'Invalid', 'Provoked', 'Questionable',\n",
       "       'Sea Disaster', nan, 'Boat', 'Boatomg'], dtype=object)"
      ]
     },
     "execution_count": 13,
     "metadata": {},
     "output_type": "execute_result"
    }
   ],
   "source": [
    "# Comprobamos valores únicos y unificamos y corregimos\n",
    "\n",
    "df['Type'].unique()"
   ]
  },
  {
   "cell_type": "code",
   "execution_count": 14,
   "id": "2cea952a",
   "metadata": {},
   "outputs": [
    {
     "data": {
      "text/plain": [
       "array(['Boating', 'Unprovoked', 'Invalid', 'Provoked', 'Questionable',\n",
       "       'Sea Disaster', 'Unknown'], dtype=object)"
      ]
     },
     "execution_count": 14,
     "metadata": {},
     "output_type": "execute_result"
    }
   ],
   "source": [
    "df['Type'] = df['Type'].fillna('Unknown')\n",
    "df['Type'] = df['Type'].replace (\"Boat\", \"Boating\")\n",
    "df['Type'] = df['Type'].replace (\"Boatomg\", \"Boating\")\n",
    "df['Type'].unique()"
   ]
  },
  {
   "cell_type": "markdown",
   "id": "a1f1204b",
   "metadata": {},
   "source": [
    "**PAÍS**"
   ]
  },
  {
   "cell_type": "code",
   "execution_count": 15,
   "id": "67045ae1",
   "metadata": {},
   "outputs": [
    {
     "data": {
      "text/plain": [
       "array(['USA', 'AUSTRALIA', 'MEXICO', 'BRAZIL', 'ENGLAND', 'SOUTH AFRICA',\n",
       "       'THAILAND', 'COSTA RICA', 'MALDIVES', 'BAHAMAS', 'NEW CALEDONIA',\n",
       "       'ECUADOR', 'MALAYSIA', 'LIBYA', nan, 'CUBA', 'MAURITIUS',\n",
       "       'NEW ZEALAND', 'SPAIN', 'SAMOA', 'SOLOMON ISLANDS', 'JAPAN',\n",
       "       'EGYPT', 'ST HELENA, BRITISH OVERSEAS TERRITORY', 'COMOROS',\n",
       "       'REUNION', 'FRENCH POLYNESIA', 'UNITED KINGDOM',\n",
       "       'UNITED ARAB EMIRATES', 'PHILIPPINES', 'INDONESIA', 'CHINA',\n",
       "       'COLUMBIA', 'CAPE VERDE', 'FIJI', 'DOMINICAN REPUBLIC',\n",
       "       'CAYMAN ISLANDS', 'ARUBA', 'MOZAMBIQUE', 'PUERTO RICO', 'ITALY',\n",
       "       'ATLANTIC OCEAN', 'GREECE', 'ST. MARTIN', 'FRANCE',\n",
       "       'PAPUA NEW GUINEA', 'TRINIDAD & TOBAGO', 'KIRIBATI', 'ISRAEL',\n",
       "       'DIEGO GARCIA', 'TAIWAN', 'JAMAICA', 'PALESTINIAN TERRITORIES',\n",
       "       'GUAM', 'SEYCHELLES', 'BELIZE', 'NIGERIA', 'TONGA', 'SCOTLAND',\n",
       "       'CANADA', 'CROATIA', 'SAUDI ARABIA', 'CHILE', 'ANTIGUA', 'KENYA',\n",
       "       'RUSSIA', 'TURKS & CAICOS', 'UNITED ARAB EMIRATES (UAE)', 'AZORES',\n",
       "       'SOUTH KOREA', 'MALTA', 'VIETNAM', 'MADAGASCAR', 'PANAMA',\n",
       "       'SOMALIA', 'NEVIS', 'BRITISH VIRGIN ISLANDS', 'NORWAY', 'SENEGAL',\n",
       "       'YEMEN', 'GULF OF ADEN', 'SIERRA LEONE', 'ST. MAARTIN',\n",
       "       'GRAND CAYMAN', 'LIBERIA', 'VANUATU', 'MEXICO ', 'HONDURAS',\n",
       "       'VENEZUELA', 'SRI LANKA', ' TONGA', 'URUGUAY', 'INDIA',\n",
       "       'MICRONESIA', 'CARIBBEAN SEA', 'OKINAWA', 'TANZANIA',\n",
       "       'MARSHALL ISLANDS', 'EGYPT / ISRAEL', 'NORTHERN ARABIAN SEA',\n",
       "       'HONG KONG', 'EL SALVADOR', 'ANGOLA', 'BERMUDA', 'MONTENEGRO',\n",
       "       'IRAN', 'TUNISIA', 'NAMIBIA', 'NORTH ATLANTIC OCEAN', 'PORTUGAL',\n",
       "       'SOUTH CHINA SEA', 'BANGLADESH', 'PALAU', 'WESTERN SAMOA',\n",
       "       'PACIFIC OCEAN ', 'BRITISH ISLES', 'GRENADA', 'IRAQ', 'TURKEY',\n",
       "       'SINGAPORE', 'NEW BRITAIN', 'SUDAN', 'JOHNSTON ISLAND',\n",
       "       'SOUTH PACIFIC OCEAN', 'NEW GUINEA', 'RED SEA',\n",
       "       'NORTH PACIFIC OCEAN', 'FEDERATED STATES OF MICRONESIA',\n",
       "       'MID ATLANTIC OCEAN', 'ADMIRALTY ISLANDS', 'BRITISH WEST INDIES',\n",
       "       'SOUTH ATLANTIC OCEAN', 'PERSIAN GULF', 'RED SEA / INDIAN OCEAN',\n",
       "       'PACIFIC OCEAN', 'NORTH SEA', 'NICARAGUA ', 'MALDIVE ISLANDS',\n",
       "       'AMERICAN SAMOA', 'ANDAMAN / NICOBAR ISLANDAS', 'GABON', 'MAYOTTE',\n",
       "       'NORTH ATLANTIC OCEAN ', 'THE BALKANS', 'SUDAN?', 'ARGENTINA',\n",
       "       'MARTINIQUE', 'INDIAN OCEAN', 'GUATEMALA', 'NETHERLANDS ANTILLES',\n",
       "       'NORTHERN MARIANA ISLANDS', 'IRAN / IRAQ', 'JAVA', ' PHILIPPINES',\n",
       "       'NICARAGUA', 'CENTRAL PACIFIC', 'SOLOMON ISLANDS / VANUATU',\n",
       "       'SOUTHWEST PACIFIC OCEAN', 'BAY OF BENGAL', 'MID-PACIFC OCEAN',\n",
       "       'SLOVENIA', 'CURACAO', 'ICELAND', 'ITALY / CROATIA', 'BARBADOS',\n",
       "       'MONACO', 'GUYANA', 'HAITI', 'SAN DOMINGO', 'IRELAND', 'KUWAIT',\n",
       "       'YEMEN ', 'REUNION ISLAND', 'FALKLAND ISLANDS', 'CRETE', 'CYPRUS',\n",
       "       'EGYPT ', 'WEST INDIES', 'BURMA', 'LEBANON', 'PARAGUAY',\n",
       "       'BRITISH NEW GUINEA', 'CEYLON', 'OCEAN', 'GEORGIA', 'SYRIA',\n",
       "       'TUVALU', 'INDIAN OCEAN?', 'GUINEA', 'ANDAMAN ISLANDS',\n",
       "       'EQUATORIAL GUINEA / CAMEROON', 'COOK ISLANDS', 'TOBAGO', 'PERU',\n",
       "       'AFRICA', 'ALGERIA', 'COAST OF AFRICA', 'TASMAN SEA', 'GHANA',\n",
       "       'GREENLAND', 'MEDITERRANEAN SEA', 'SWEDEN', 'ROATAN',\n",
       "       'BETWEEN PORTUGAL & INDIA', 'DJIBOUTI', 'BAHREIN', 'KOREA',\n",
       "       'RED SEA?', 'ASIA?', 'CEYLON (SRI LANKA)'], dtype=object)"
      ]
     },
     "execution_count": 15,
     "metadata": {},
     "output_type": "execute_result"
    }
   ],
   "source": [
    "# Comprobamos los valores de los países. Obeservamos que algunos no son países (ciudad,regiones...).\n",
    "# Procedemos a poner los valores correctos utilizando un diccionario con key/values para corregir estos elementos manualmente.\n",
    "# En este caso lo haremos a través de una función que se aplicará a todo el eje.\n",
    "\n",
    "df['Country'] = df['Country'].str.upper()\n",
    "df['Country'].unique()"
   ]
  },
  {
   "cell_type": "code",
   "execution_count": 16,
   "id": "98f0088f",
   "metadata": {},
   "outputs": [],
   "source": [
    "def reemplazar_ciudades_por_paises(texto):\n",
    "    original_lista = ['USA', 'AUSTRALIA', 'MEXICO', 'BRAZIL', 'ENGLAND', 'SOUTH AFRICA', 'THAILAND', 'COSTA RICA', 'MALDIVES', 'BAHAMAS', 'NEW CALEDONIA', 'ECUADOR', 'MALAYSIA', 'LIBYA', np.nan, 'CUBA', 'MAURITIUS', 'NEW ZEALAND', 'SPAIN', 'SAMOA', 'SOLOMON ISLANDS', 'JAPAN', 'EGYPT', 'ST HELENA, BRITISH OVERSEAS TERRITORY', 'COMOROS', 'REUNION', 'FRENCH POLYNESIA', 'UNITED KINGDOM', 'UNITED ARAB EMIRATES', 'PHILIPPINES', 'INDONESIA', 'CHINA', 'COLUMBIA', 'CAPE VERDE', 'FIJI', 'DOMINICAN REPUBLIC', 'CAYMAN ISLANDS', 'ARUBA', 'MOZAMBIQUE', 'PUERTO RICO', 'ITALY', 'ATLANTIC OCEAN', 'GREECE', 'ST. MARTIN', 'FRANCE', 'PAPUA NEW GUINEA', 'TRINIDAD & TOBAGO', 'KIRIBATI', 'ISRAEL', 'DIEGO GARCIA', 'TAIWAN', 'JAMAICA', 'PALESTINIAN TERRITORIES', 'GUAM', 'SEYCHELLES', 'BELIZE', 'NIGERIA', 'TONGA', 'SCOTLAND', 'CANADA', 'CROATIA', 'SAUDI ARABIA', 'CHILE', 'ANTIGUA', 'KENYA', 'RUSSIA', 'TURKS & CAICOS', 'UNITED ARAB EMIRATES (UAE)', 'AZORES', 'SOUTH KOREA', 'MALTA', 'VIETNAM', 'MADAGASCAR', 'PANAMA', 'SOMALIA', 'NEVIS', 'BRITISH VIRGIN ISLANDS', 'NORWAY', 'SENEGAL', 'YEMEN', 'GULF OF ADEN', 'SIERRA LEONE', 'ST. MAARTIN', 'GRAND CAYMAN', 'LIBERIA', 'VANUATU', 'MEXICO ', 'HONDURAS', 'VENEZUELA', 'SRI LANKA', ' TONGA', 'URUGUAY', 'INDIA', 'MICRONESIA', 'CARIBBEAN SEA', 'OKINAWA', 'TANZANIA', 'MARSHALL ISLANDS', 'EGYPT / ISRAEL', 'NORTHERN ARABIAN SEA', 'HONG KONG', 'EL SALVADOR', 'ANGOLA', 'BERMUDA', 'MONTENEGRO', 'IRAN', 'TUNISIA', 'NAMIBIA', 'NORTH ATLANTIC OCEAN', 'PORTUGAL', 'SOUTH CHINA SEA', 'BANGLADESH', 'PALAU', 'WESTERN SAMOA', 'PACIFIC OCEAN ', 'BRITISH ISLES', 'GRENADA', 'IRAQ', 'TURKEY', 'SINGAPORE', 'NEW BRITAIN', 'SUDAN', 'JOHNSTON ISLAND', 'SOUTH PACIFIC OCEAN', 'NEW GUINEA', 'RED SEA', 'NORTH PACIFIC OCEAN', 'FEDERATED STATES OF MICRONESIA', 'MID ATLANTIC OCEAN', 'ADMIRALTY ISLANDS', 'BRITISH WEST INDIES', 'SOUTH ATLANTIC OCEAN', 'PERSIAN GULF', 'RED SEA / INDIAN OCEAN', 'PACIFIC OCEAN', 'NORTH SEA', 'NICARAGUA ', 'MALDIVE ISLANDS', 'AMERICAN SAMOA', 'ANDAMAN / NICOBAR ISLANDAS', 'GABON', 'MAYOTTE', 'NORTH ATLANTIC OCEAN ', 'THE BALKANS', 'SUDAN?', 'ARGENTINA', 'MARTINIQUE', 'INDIAN OCEAN', 'GUATEMALA', 'NETHERLANDS ANTILLES', 'NORTHERN MARIANA ISLANDS', 'IRAN / IRAQ', 'JAVA', ' PHILIPPINES', 'NICARAGUA', 'CENTRAL PACIFIC', 'SOLOMON ISLANDS / VANUATU', 'SOUTHWEST PACIFIC OCEAN', 'BAY OF BENGAL', 'MID-PACIFC OCEAN', 'SLOVENIA', 'CURACAO', 'ICELAND', 'ITALY / CROATIA', 'BARBADOS', 'MONACO', 'GUYANA', 'HAITI', 'SAN DOMINGO', 'IRELAND', 'KUWAIT', 'YEMEN ', 'REUNION ISLAND', 'FALKLAND ISLANDS', 'CRETE', 'CYPRUS', 'EGYPT ', 'WEST INDIES', 'BURMA', 'LEBANON', 'PARAGUAY', 'BRITISH NEW GUINEA', 'CEYLON', 'OCEAN', 'GEORGIA', 'SYRIA', 'TUVALU', 'INDIAN OCEAN?', 'GUINEA', 'ANDAMAN ISLANDS', 'EQUATORIAL GUINEA / CAMEROON', 'COOK ISLANDS', 'TOBAGO', 'PERU', 'AFRICA', 'ALGERIA', 'COAST OF AFRICA', 'TASMAN SEA', 'GHANA', 'GREENLAND', 'MEDITERRANEAN SEA', 'SWEDEN', 'ROATAN', 'BETWEEN PORTUGAL & INDIA', 'DJIBOUTI', 'BAHREIN', 'KOREA', 'RED SEA?', 'ASIA?', 'CEYLON (SRI LANKA)']\n",
    "\n",
    "    reemplazos = {'USA': 'USA',\n",
    "    'AUSTRALIA': 'AUSTRALIA',\n",
    "    'MEXICO': 'MEXICO',\n",
    "    'BRAZIL': 'BRAZIL',\n",
    "    'ENGLAND': 'UNITED KINGDOM',\n",
    "    'SOUTH AFRICA': 'SOUTH AFRICA',\n",
    "    'THAILAND': 'THAILAND',\n",
    "    'COSTA RICA': 'COSTA RICA',\n",
    "    'MALDIVES': 'MALDIVES',\n",
    "    'BAHAMAS': 'BAHAMAS',\n",
    "    'NEW CALEDONIA': 'NEW CALEDONIA',\n",
    "    'ECUADOR': 'ECUADOR',\n",
    "    'MALAYSIA': 'MALAYSIA',\n",
    "    'LIBYA': 'LIBYA',\n",
    "    'CUBA': 'CUBA',\n",
    "    'MAURITIUS': 'MAURITIUS',\n",
    "    'NEW ZEALAND': 'NEW ZEALAND',\n",
    "    'SPAIN': 'SPAIN',\n",
    "    'SAMOA': 'SAMOA',\n",
    "    'SOLOMON ISLANDS': 'SOLOMON ISLANDS',\n",
    "    'JAPAN': 'JAPAN',\n",
    "    'EGYPT': 'EGYPT',\n",
    "    'ST HELENA, BRITISH OVERSEAS TERRITORY': 'ST HELENA',\n",
    "    'COMOROS': 'COMOROS',\n",
    "    'REUNION': 'REUNION',\n",
    "    'FRENCH POLYNESIA': 'FRENCH POLYNESIA',\n",
    "    'UNITED KINGDOM': 'UNITED KINGDOM',\n",
    "    'UNITED ARAB EMIRATES': 'UNITED ARAB EMIRATES',\n",
    "    'PHILIPPINES': 'PHILIPPINES',\n",
    "    'INDONESIA': 'INDONESIA',\n",
    "    'CHINA': 'CHINA',\n",
    "    'COLOMBIA': 'COLOMBIA',\n",
    "    'CAPE VERDE': 'CAPE VERDE',\n",
    "    'FIJI': 'FIJI',\n",
    "    'DOMINICAN REPUBLIC': 'DOMINICAN REPUBLIC',\n",
    "    'CAYMAN ISLANDS': 'CAYMAN ISLANDS',\n",
    "    'ARUBA': 'ARUBA',\n",
    "    'MOZAMBIQUE': 'MOZAMBIQUE',\n",
    "    'PUERTO RICO': 'PUERTO RICO',\n",
    "    'ITALY': 'ITALY',\n",
    "    'ATLANTIC OCEAN': 'ATLANTIC OCEAN',\n",
    "    'GREECE': 'GREECE',\n",
    "    'ST. MARTIN': 'ST. MARTIN',\n",
    "    'FRANCE': 'FRANCE',\n",
    "    'PAPUA NEW GUINEA': 'PAPUA NEW GUINEA',\n",
    "    'TRINIDAD & TOBAGO': 'TRINIDAD & TOBAGO',\n",
    "    'KIRIBATI': 'KIRIBATI',\n",
    "    'ISRAEL': 'ISRAEL',\n",
    "    'DIEGO GARCIA': 'DIEGO GARCIA',\n",
    "    'TAIWAN': 'TAIWAN',\n",
    "    'JAMAICA': 'JAMAICA',\n",
    "    'PALESTINIAN TERRITORIES': 'PALESTINIAN TERRITORIES',\n",
    "    'GUAM': 'GUAM',\n",
    "    'SEYCHELLES': 'SEYCHELLES',\n",
    "    'BELIZE': 'BELIZE',\n",
    "    'NIGERIA': 'NIGERIA',\n",
    "    'TONGA': 'TONGA',\n",
    "    'SCOTLAND': 'SCOTLAND',\n",
    "    'CANADA': 'CANADA',\n",
    "    'CROATIA': 'CROATIA',\n",
    "    'SAUDI ARABIA': 'SAUDI ARABIA',\n",
    "    'CHILE': 'CHILE',\n",
    "    'ANTIGUA': 'ANTIGUA',\n",
    "    'KENYA': 'KENYA',\n",
    "    'RUSSIA': 'RUSSIA',\n",
    "    'TURKS & CAICOS': 'TURKS & CAICOS',\n",
    "    'UNITED ARAB EMIRATES (UAE)': 'UNITED ARAB EMIRATES',\n",
    "    'AZORES': 'AZORES',\n",
    "    'SOUTH KOREA': 'SOUTH KOREA',\n",
    "    'MALTA': 'MALTA',\n",
    "    'VIETNAM': 'VIETNAM',\n",
    "    'MADAGASCAR': 'MADAGASCAR',\n",
    "    'PANAMA': 'PANAMA',\n",
    "    'SOMALIA': 'SOMALIA',\n",
    "    'NEVIS': 'NEVIS',\n",
    "    'BRITISH VIRGIN ISLANDS': 'BRITISH VIRGIN ISLANDS',\n",
    "    'NORWAY': 'NORWAY',\n",
    "    'SENEGAL': 'SENEGAL',\n",
    "    'YEMEN': 'YEMEN',\n",
    "    'GULF OF ADEN': 'GULF OF ADEN',\n",
    "    'SIERRA LEONE': 'SIERRA LEONE',\n",
    "    'ST. MAARTIN': 'ST. MAARTIN',\n",
    "    'GRAND CAYMAN': 'GRAND CAYMAN',\n",
    "    'LIBERIA': 'LIBERIA',\n",
    "    'VANUATU': 'VANUATU',\n",
    "    'MEXICO ': 'MEXICO',\n",
    "    'HONDURAS': 'HONDURAS',\n",
    "    'VENEZUELA': 'VENEZUELA',\n",
    "    'SRI LANKA': 'SRI LANKA',\n",
    "    ' TONGA': 'TONGA',\n",
    "    'URUGUAY': 'URUGUAY',\n",
    "    'INDIA': 'INDIA',\n",
    "    'MICRONESIA': 'MICRONESIA',\n",
    "    'CARIBBEAN SEA': 'CARIBBEAN SEA',\n",
    "    'OKINAWA': 'OKINAWA',\n",
    "    'TANZANIA': 'TANZANIA',\n",
    "    'MARSHALL ISLANDS': 'MARSHALL ISLANDS',\n",
    "    'EGYPT / ISRAEL': 'EGYPT / ISRAEL',\n",
    "    'NORTHERN ARABIAN SEA': 'NORTHERN ARABIAN SEA',\n",
    "    'HONG KONG': 'HONG KONG',\n",
    "    'EL SALVADOR': 'EL SALVADOR',\n",
    "    'ANGOLA': 'ANGOLA',\n",
    "    'BERMUDA': 'BERMUDA',\n",
    "    'MONTENEGRO': 'MONTENEGRO',\n",
    "    'IRAN': 'IRAN',\n",
    "    'TUNISIA': 'TUNISIA',\n",
    "    'NAMIBIA': 'NAMIBIA',\n",
    "    'NORTH ATLANTIC OCEAN': 'ATLANTIC OCEAN',\n",
    "    'PORTUGAL': 'PORTUGAL',\n",
    "    'SOUTH CHINA SEA': 'SOUTH CHINA SEA',\n",
    "    'BANGLADESH': 'BANGLADESH',\n",
    "    'PALAU': 'PALAU',\n",
    "    'WESTERN SAMOA': 'WESTERN SAMOA',\n",
    "    'PACIFIC OCEAN ': 'PACIFIC OCEAN',\n",
    "    'BRITISH ISLES': 'UNITED KINGDOM',\n",
    "    'GRENADA': 'GRENADA',\n",
    "    'IRAQ': 'IRAQ',\n",
    "    'TURKEY': 'TURKEY',\n",
    "    'SINGAPORE': 'SINGAPORE',\n",
    "    'NEW BRITAIN': 'PAPUA NEW GUINEA',\n",
    "    'SUDAN': 'SUDAN',\n",
    "    'JOHNSTON ISLAND': 'JOHNSTON ISLAND',\n",
    "    'SOUTH PACIFIC OCEAN': 'SOUTH PACIFIC OCEAN',\n",
    "    'NEW GUINEA': 'PAPUA NEW GUINEA',\n",
    "    'RED SEA': 'RED SEA',\n",
    "    'NORTH PACIFIC OCEAN': 'PACIFIC OCEAN',\n",
    "    'FEDERATED STATES OF MICRONESIA': 'MICRONESIA',\n",
    "    'MID ATLANTIC OCEAN': 'ATLANTIC OCEAN',\n",
    "    'ADMIRALTY ISLANDS': 'PAPUA NEW GUINEA',\n",
    "    'BRITISH WEST INDIES': 'UNITED KINGDOM',\n",
    "    'SOUTH ATLANTIC OCEAN': 'SOUTH ATLANTIC OCEAN',\n",
    "    'PERSIAN GULF': 'PERSIAN GULF',\n",
    "    'RED SEA / INDIAN OCEAN': 'RED SEA / INDIAN OCEAN',\n",
    "    'PACIFIC OCEAN': 'PACIFIC OCEAN',\n",
    "    'NORTH SEA': 'NORTH SEA',\n",
    "    'NICARAGUA ': 'NICARAGUA',\n",
    "    'MALDIVE ISLANDS': 'MALDIVES',\n",
    "    'AMERICAN SAMOA': 'AMERICAN SAMOA',\n",
    "    'ANDAMAN / NICOBAR ISLANDS': 'INDIA',\n",
    "    'GABON': 'GABON',\n",
    "    'MAYOTTE': 'MAYOTTE',\n",
    "    'NORTH ATLANTIC OCEAN ': 'ATLANTIC OCEAN',\n",
    "    'THE BALKANS': 'VARIOUS',\n",
    "    'SUDAN?': 'SUDAN',\n",
    "    'ARGENTINA': 'ARGENTINA',\n",
    "    'MARTINIQUE': 'MARTINIQUE',\n",
    "    'INDIAN OCEAN': 'INDIAN OCEAN',\n",
    "    'GUATEMALA': 'GUATEMALA',\n",
    "    'NETHERLANDS ANTILLES': 'NETHERLANDS ANTILLES',\n",
    "    'NORTHERN MARIANA ISLANDS': 'NORTHERN MARIANA ISLANDS',\n",
    "    'IRAN / IRAQ': 'IRAN / IRAQ',\n",
    "    'JAVA': 'INDONESIA',\n",
    "    ' PHILIPPINES': 'PHILIPPINES',\n",
    "    'NICARAGUA': 'NICARAGUA',\n",
    "    'CENTRAL PACIFIC': 'VARIOUS',\n",
    "    'SOLOMON ISLANDS / VANUATU': 'SOLOMON ISLANDS / VANUATU',\n",
    "    'SOUTHWEST PACIFIC OCEAN': 'VARIOUS',\n",
    "    'BAY OF BENGAL': 'BAY OF BENGAL',\n",
    "    'MID-PACIFIC OCEAN': 'VARIOUS',\n",
    "    'SLOVENIA': 'SLOVENIA',\n",
    "    'CURACAO': 'CURACAO',\n",
    "    'ICELAND': 'ICELAND',\n",
    "    'ITALY / CROATIA': 'ITALY / CROATIA',\n",
    "    'BARBADOS': 'BARBADOS',\n",
    "    'MONACO': 'MONACO',\n",
    "    'GUYANA': 'GUYANA',\n",
    "    'HAITI': 'HAITI',\n",
    "    'SAN DOMINGO': 'DOMINICAN REPUBLIC',\n",
    "    'IRELAND': 'IRELAND',\n",
    "    'KUWAIT': 'KUWAIT',\n",
    "    'YEMEN ': 'YEMEN',\n",
    "    'REUNION ISLAND': 'REUNION',\n",
    "    'FALKLAND ISLANDS': 'FALKLAND ISLANDS',\n",
    "    'CRETE': 'GREECE',\n",
    "    'CYPRUS': 'CYPRUS',\n",
    "    'EGYPT ': 'EGYPT',\n",
    "    'WEST INDIES': 'VARIOUS',\n",
    "    'BURMA': 'MYANMAR',\n",
    "    'LEBANON': 'LEBANON',\n",
    "    'PARAGUAY': 'PARAGUAY',\n",
    "    'BRITISH NEW GUINEA': 'PAPUA NEW GUINEA',\n",
    "    'CEYLON': 'SRI LANKA',\n",
    "    'OCEAN': 'VARIOUS',\n",
    "    'GEORGIA': 'GEORGIA',\n",
    "    'SYRIA': 'SYRIA',\n",
    "    'TUVALU': 'TUVALU',\n",
    "    'INDIAN OCEAN?': 'INDIAN OCEAN',\n",
    "    'GUINEA': 'GUINEA',\n",
    "    'ANDAMAN ISLANDS': 'INDIA',\n",
    "    'EQUATORIAL GUINEA / CAMEROON': 'EQUATORIAL GUINEA / CAMEROON',\n",
    "    'COOK ISLANDS': 'COOK ISLANDS',\n",
    "    'TOBAGO': 'TRINIDAD & TOBAGO',\n",
    "    'PERU': 'PERU',\n",
    "    'AFRICA': 'VARIOUS',\n",
    "    'ALGERIA': 'ALGERIA',\n",
    "    'COAST OF AFRICA': 'VARIOUS',\n",
    "    'TASMAN SEA': 'TASMAN SEA',\n",
    "    'GHANA': 'GHANA',\n",
    "    'GREENLAND': 'GREENLAND',\n",
    "    'MEDITERRANEAN SEA': 'MEDITERRANEAN SEA',\n",
    "    'SWEDEN': 'SWEDEN',\n",
    "    'ROATAN': 'HONDURAS',\n",
    "    'BETWEEN PORTUGAL & INDIA': 'VARIOUS',\n",
    "    'DJIBOUTI': 'DJIBOUTI',\n",
    "    'BAHRAIN': 'BAHRAIN',\n",
    "    'KOREA': 'SOUTH KOREA',\n",
    "    'RED SEA': 'RED SEA',\n",
    "    'ASIA': 'VARIOUS',\n",
    "    'CEYLON (SRI LANKA)': 'SRI LANKA'\n",
    "}\n",
    "       \n",
    "    \n",
    "    if texto in reemplazos:\n",
    "        return reemplazos[texto]\n",
    "    else:\n",
    "        return texto\n",
    "    \n",
    "df['Country'] = df['Country'].apply(reemplazar_ciudades_por_paises)\n",
    "df['Country'] = df['Country'].fillna('Unknown')"
   ]
  },
  {
   "cell_type": "markdown",
   "id": "b656ea43",
   "metadata": {},
   "source": [
    "**ÁREA Y UBICACIÓN**"
   ]
  },
  {
   "cell_type": "code",
   "execution_count": 17,
   "id": "802b1156",
   "metadata": {},
   "outputs": [],
   "source": [
    "# Simplemente rellenamos los valores nulos con 'Unknown'\n",
    "\n",
    "df['Location'] = df['Location'].fillna('Unknown')\n",
    "df['Area'] = df['Area'].fillna('Unknown')"
   ]
  },
  {
   "cell_type": "markdown",
   "id": "89562cbf",
   "metadata": {},
   "source": [
    "**ESPECIES**"
   ]
  },
  {
   "cell_type": "code",
   "execution_count": 18,
   "id": "5321d1b4",
   "metadata": {},
   "outputs": [],
   "source": [
    "# Para la columna Species, rellenamos los nulos y ponemos todo en minúscula para posterioremente usar la función de str.replace\n",
    "# para aquellas string que tienen las principales especies de tiburón. Para las descripciones que son ambiguas respecto de la \n",
    "# especie, simplemente lo denominamos como \"Shark\" a secas.\n",
    "\n",
    "df['Species '] = df['Species '].fillna('Unknown')\n",
    "df['Species '] = df['Species '].str.lower()"
   ]
  },
  {
   "cell_type": "code",
   "execution_count": 19,
   "id": "7af7e2ea",
   "metadata": {},
   "outputs": [],
   "source": [
    "df['Species '] = df['Species '].str.replace('.*white.*', 'White Shark', case=False, regex=True)\n",
    "df['Species '] = df['Species '].str.replace('.*tiger.*', 'Tiger Shark', case=False, regex=True)\n",
    "df['Species '] = df['Species '].str.replace('.*lemon.*', 'Lemon Shark', case=False, regex=True)\n",
    "df['Species '] = df['Species '].str.replace('.*bull.*', 'Bull Shark', case=False, regex=True)\n",
    "df['Species '] = df['Species '].str.replace('.*nurse.*', 'Nurse Shark', case=False, regex=True)\n",
    "df['Species '] = df['Species '].str.replace('.*blacktip.*', 'Blacktip Shark', case=False, regex=True)\n",
    "df['Species '] = df['Species '].str.replace('.*wobbegong.*', 'Wobbegong Shark', case=False, regex=True)\n",
    "df['Species '] = df['Species '].str.replace('.*cookiecutter.*', 'Cookiecutter Shark', case=False, regex=True)\n",
    "df['Species '] = df['Species '].str.replace('.*reef.*', 'Reef Shark', case=False, regex=True)\n",
    "df['Species '] = df['Species '].str.replace('.*blue.*', 'Blue Shark', case=False, regex=True)\n",
    "df['Species '] = df['Species '].str.replace('.*spinner.*', 'Spinner Shark', case=False, regex=True)\n",
    "df['Species '] = df['Species '].str.replace('.*galapagos.*', 'Galapagos Shark', case=False, regex=True)\n",
    "df['Species '] = df['Species '].str.replace('.*whitetip.*', 'Whitetip Shark', case=False, regex=True)\n",
    "df['Species '] = df['Species '].str.replace('.*hammerhead.*', 'Hammerhead Shark', case=False, regex=True)\n",
    "df['Species '] = df['Species '].str.replace('.*silky.*', 'Silky Shark', case=False, regex=True)\n",
    "df['Species '] = df['Species '].str.replace('.*mako.*', 'Mako Shark', case=False, regex=True)\n",
    "df['Species '] = df['Species '].str.replace('.*bronze.*', 'Bronze Shark', case=False, regex=True)\n",
    "df['Species '] = df['Species '].str.replace('.*shark.*', 'Shark', regex=True)\n",
    "df = df[df['Species '].str.contains(r'shark|Shark', case=False, na=False)]  #Filtramos para que solo nos queden las filas \n",
    "# en las que aparezcan las palabras S/shark, ya que en muchas filas no se especifica si es seguro que sea un ataque de tiburón"
   ]
  },
  {
   "cell_type": "code",
   "execution_count": 20,
   "id": "dd097f40",
   "metadata": {},
   "outputs": [
    {
     "data": {
      "text/plain": [
       "array(['White Shark', 'Shark', 'Tiger Shark', 'Lemon Shark', 'Bull Shark',\n",
       "       'Reef Shark', 'Nurse Shark', 'Wobbegong Shark', 'Blacktip Shark',\n",
       "       'Galapagos Shark', 'Blue Shark', 'Cookiecutter Shark',\n",
       "       'Spinner Shark', 'Mako Shark', 'Bronze Shark', 'Silky Shark',\n",
       "       'Hammerhead Shark'], dtype=object)"
      ]
     },
     "execution_count": 20,
     "metadata": {},
     "output_type": "execute_result"
    }
   ],
   "source": [
    "df['Species '].unique()"
   ]
  },
  {
   "cell_type": "markdown",
   "id": "7226735e",
   "metadata": {},
   "source": [
    "**EDAD**"
   ]
  },
  {
   "cell_type": "code",
   "execution_count": 21,
   "id": "4a4c7771",
   "metadata": {},
   "outputs": [],
   "source": [
    "# Para la columna edad, filtramos el dataframe y unificamos todos los valores únicos para que puedan convertirse a enteros.\n",
    "# Como en la columna de países, lo haremos mediante un diccionario, esta vez con .replace\n",
    "\n",
    "df['Age'] = df['Age'].replace({\n",
    "    '18 months': 1,\n",
    "    'teen': 15, \n",
    "    'mid-20s': 25, \n",
    "    'Ca. 33': 33,\n",
    "    '>50': 50, \n",
    "    'adult': None,  \n",
    "    '9 & 12': None,  \n",
    "    '? & 19': None, \n",
    "    '9 months': 1,  \n",
    "    '25 to 35': None,  \n",
    "    '23 & 26': None,  \n",
    "    '33 & 37': None,  \n",
    "    '37, 67, 35, 27,  ? & 27': None,  \n",
    "    '30 & 32': None, \n",
    "    '50 & 30': None, \n",
    "    '17 & 35': None,\n",
    "    '13 or 18': None, \n",
    "    '34 & 19': None, \n",
    "    '2 to 3 months': 0,  \n",
    "    'MAKE LINE GREEN': None,\n",
    "    ' 43': 43, \n",
    "    '\"young\"': 15,  \n",
    "    '7 or 8': 7, \n",
    "    '17 & 16': None, \n",
    "    'Both 11': 11,  \n",
    "    '9 or 10': 9, \n",
    "    '13 or 14': 13,\n",
    "    '60s': 65,\n",
    "    '40s': 45,\n",
    "    'Teen': 15,\n",
    "    '20s': 25,\n",
    "    '30s': 35,\n",
    "    '28 & 26': 27,\n",
    "    '18 or 20': 19,\n",
    "    '46 & 34': 46,\n",
    "    '36 & 26': 30,\n",
    "    '8 or 10': 9,\n",
    "    '\\xa0 ': None,\n",
    "    ' ': None,\n",
    "    '30 or 36': 33,\n",
    "    '6½': 6,\n",
    "    '21 & ?': 21,\n",
    "    '23 & 20': 21,\n",
    "    ' 30': 30,\n",
    "    ' 28': 28,\n",
    "    '20?': 20,\n",
    "    \"60's\": 65,\n",
    "    '32 & 30': 31,\n",
    "    '16 to 18': 17,\n",
    "    \n",
    "})\n",
    "\n",
    "df['Age'] = df['Age'].apply(lambda x: np.nan if x == \"Unknown\" else x)"
   ]
  },
  {
   "cell_type": "markdown",
   "id": "f680c08f",
   "metadata": {},
   "source": [
    "**HORA**"
   ]
  },
  {
   "cell_type": "code",
   "execution_count": 22,
   "id": "4647c1c6",
   "metadata": {},
   "outputs": [],
   "source": [
    "# Para la columna en la que se reflejan los elementos para el momento en que se produjo el ataque, aplicaremos un diccionario\n",
    "# a través de un mapeo tras sacar los valores únicos y sustituirlos por \"Morning\", \"Afternoon\" y \"Night\" dependiendo de la hora\n",
    "# en la que se produjera.\n",
    "\n",
    "time_mapping = {\n",
    "    '18h00': 'Afternoon',\n",
    "    'nan': 'Unknown',\n",
    "    'Late afternoon': 'Afternoon',\n",
    "    '17h00': 'Afternoon',\n",
    "    'Morning': 'Morning',\n",
    "    '10h30': 'Morning',\n",
    "    '10h40': 'Morning',\n",
    "    '09h30': 'Morning',\n",
    "    'Afternoon': 'Afternoon',\n",
    "    '21h50': 'Night',\n",
    "    '09h40': 'Morning',\n",
    "    '15h00': 'Afternoon',\n",
    "    '17h35': 'Afternoon',\n",
    "    '15h30': 'Afternoon',\n",
    "    '07h30': 'Morning',\n",
    "    '19h00, Dusk': 'Night',\n",
    "    '16h00': 'Afternoon',\n",
    "    '08h00': 'Morning',\n",
    "    '15h01': 'Afternoon',\n",
    "    '13h45': 'Afternoon',\n",
    "    '23h30': 'Morning',\n",
    "    '09h00': 'Morning',\n",
    "    '14h30': 'Afternoon',\n",
    "    '18h30': 'Afternoon',\n",
    "    '12h30': 'Morning',\n",
    "    '14h00': 'Afternoon',\n",
    "    '18h45': 'Afternoon',\n",
    "    '06h00': 'Morning',\n",
    "    'Midday': 'Afternoon',\n",
    "    '10h00': 'Morning',\n",
    "    '13h30': 'Afternoon',\n",
    "    '10h45': 'Morning',\n",
    "    '11h20': 'Morning',\n",
    "    '07h45': 'Morning',\n",
    "    '11h00': 'Morning',\n",
    "    '19h30': 'Afternoon',\n",
    "    '08h30': 'Morning',\n",
    "    '15h45': 'Afternoon',\n",
    "    'Shortly before 12h00': 'Afternoon',\n",
    "    '08h50': 'Morning',\n",
    "    '12h00': 'Afternoon',\n",
    "    '07h00': 'Morning',\n",
    "    '02h00': 'Night',\n",
    "    '9h00': 'Morning',\n",
    "    '15h15': 'Afternoon',\n",
    "    '16h30': 'Afternoon',\n",
    "    '11h30': 'Morning',\n",
    "    'After noon': 'Afternoon',\n",
    "    '22h00': 'Morning',\n",
    "    '16h20': 'Afternoon',\n",
    "    '15h25': 'Afternoon',\n",
    "    '17h30': 'Afternoon',\n",
    "    'Morning ': 'Morning',\n",
    "    '13h20': 'Afternoon',\n",
    "    'Midnight': 'Night',\n",
    "    '09h30 / 10h00': 'Morning',\n",
    "    '10h15': 'Morning',\n",
    "    '18h15': 'Afternoon',\n",
    "    '13h50': 'Afternoon',\n",
    "    '19h20': 'Afternoon',\n",
    "    '10h25': 'Morning',\n",
    "    '10h45-11h15': 'Morning',\n",
    "    '16h45': 'Afternoon',\n",
    "    '15h52': 'Unknown',\n",
    "    '06h15': 'Morning',\n",
    "    '14h40': 'Afternoon',\n",
    "    '19h45': 'Afternoon',\n",
    "    '19h00': 'Afternoon',\n",
    "    '10h10': 'Morning',\n",
    "    '08h45': 'Morning',\n",
    "    '12h10': 'Afternoon',\n",
    "    '18h05': 'Afternoon',\n",
    "    '12h25': 'Afternoon',\n",
    "    '17h51': 'Afternoon',\n",
    "    '16h12': 'Afternoon',\n",
    "    '12h45': 'Afternoon',\n",
    "    '10h50': 'Morning',\n",
    "    '14h15': 'Afternoon',\n",
    "    '13h00': 'Afternoon',\n",
    "    '09h45': 'Morning',\n",
    "    '11h45': 'Morning',\n",
    "    '06h45': 'Morning',\n",
    "    '05h00': 'Morning',\n",
    "    '03h30': 'Morning',\n",
    "    'Night': 'Night',\n",
    "    '11h15': 'Morning',\n",
    "    '06h30': 'Morning',\n",
    "    '20h00': 'Night',\n",
    "    '16h40': 'Afternoon',\n",
    "    '16h18': 'Afternoon',\n",
    "    '11h10': 'Morning',\n",
    "    '17h50': 'Afternoon',\n",
    "    '18h15-18h30': 'Afternoon',\n",
    "    '08h20': 'Morning',\n",
    "    '20h30': 'Night',\n",
    "    '15h19': 'Afternoon',\n",
    "    '10h55': 'Morning',\n",
    "    '15h55': 'Afternoon',\n",
    "    '23h00': 'Night',\n",
    "    '12h40': 'Afternoon',\n",
    "    '16h05': 'Afternoon',\n",
    "    '14h10': 'Afternoon',\n",
    "    '12h50': 'Afternoon',\n",
    "    '13h40': 'Afternoon',\n",
    "    '13h24': 'Afternoon',\n",
    "    '09h00 - 09h30': 'Morning',\n",
    "    '0830': 'Morning',\n",
    "    '14h50': 'Afternoon',\n",
    "    '11h40': 'Morning',\n",
    "    '08h10': 'Morning',\n",
    "    '15h56': 'Afternoon',\n",
    "    '1600': 'Afternoon',\n",
    "    '17h17': 'Afternoon',\n",
    "    '09h05': 'Morning',\n",
    "    '07h15': 'Morning',\n",
    "    '14h20': 'Afternoon',\n",
    "    '07h20': 'Morning',\n",
    "    '19h28': 'Afternoon',\n",
    "    '12h38': 'Afternoon',\n",
    "    '05h50': 'Morning',\n",
    "    '15h50': 'Afternoon',\n",
    "    '11h05': 'Morning',\n",
    "    '15h40': 'Afternoon',\n",
    "    'Early morning': 'Morning',\n",
    "    '05h45': 'Morning',\n",
    "    '13h25': 'Afternoon',\n",
    "    '09h50': 'Morning',\n",
    "    '13h26': 'Afternoon',\n",
    "    '09h11': 'Morning',\n",
    "    'Evening': 'Night',\n",
    "    '13h15': 'Afternoon',\n",
    "    '17h45': 'Afternoon',\n",
    "    'Early afternoon': 'Afternoon',\n",
    "    '18h20': 'Afternoon',\n",
    "    '15h35': 'Afternoon',\n",
    "    '14h55': 'Afternoon',\n",
    "    '08h05': 'Morning',\n",
    "    '19h15': 'Afternoon',\n",
    "    '10h35': 'Morning',\n",
    "    '14h45': 'Afternoon',\n",
    "    '21h00': 'Night',\n",
    "    'Lunchtime': 'Afternoon',\n",
    "    '15j45': 'Afternoon',\n",
    "    '09h35': 'Morning',\n",
    "    '10h27': 'Morning',\n",
    "    '10h16': 'Morning',\n",
    "    'Before 07h00': 'Morning',\n",
    "    '09h20': 'Morning',\n",
    "    '17h20': 'Afternoon',\n",
    "    'Dusk': 'Night',\n",
    "    '13h55': 'Afternoon',\n",
    "    '18h50': 'Afternoon',\n",
    "    '\"Just before 11h00\"': 'Morning',\n",
    "    '11h115': 'Morning',\n",
    "    '08h15': 'Morning',\n",
    "    '12h39': 'Afternoon',\n",
    "    '07h05': 'Morning',\n",
    "    '12h15': 'Afternoon',\n",
    "    '11h50': 'Morning',\n",
    "    '\"Evening\"': 'Night',\n",
    "    'Just before sundown': 'Afternoon',\n",
    "    '17h15': 'Afternoon',\n",
    "    '12h05': 'Afternoon',\n",
    "    '15h20': 'Afternoon',\n",
    "    '16h10': 'Afternoon',\n",
    "    '06h10': 'Morning',\n",
    "    '16h15': 'Afternoon',\n",
    "    'Between 05h00 and 08h00': 'Morning',\n",
    "    '07h08': 'Morning',\n",
    "    '17h00 or 17h40': 'Afternoon',\n",
    "    '>08h00': 'Morning',\n",
    "    '12h20': 'Afternoon',\n",
    "    '--': 'Unknown',\n",
    "    '12h55': 'Afternoon',\n",
    "    '16h14': 'Afternoon',\n",
    "    '17h11': 'Afternoon',\n",
    "    '00h30': 'Night',\n",
    "    '10h07': 'Morning',\n",
    "    '13h23': 'Afternoon',\n",
    "    'Just after 12h00': 'Afternoon',\n",
    "    '02h30': 'Night',\n",
    "    '08h40': 'Morning',\n",
    "    '11h56': 'Morning',\n",
    "    '14h35': 'Afternoon',\n",
    "    ' ': 'Unknown',\n",
    "    'Early Morning': 'Morning',\n",
    "    'Shortly after midnight': 'Night',\n",
    "    '13h345': 'Afternoon',\n",
    "    '\\xa0 ': 'Unknown',\n",
    "    '09h00 -10h00': 'Morning',\n",
    "    '20h45 (Sunset)': 'Afternoon',\n",
    "    'Late morning': 'Morning',\n",
    "    'P.M.': 'Afternoon',\n",
    "    'Shortly before 13h00': 'Afternoon',\n",
    "    '12h34': 'Afternoon',\n",
    "    '11h53': 'Morning',\n",
    "    '8:04 pm': 'Night',\n",
    "    '12h35': 'Afternoon',\n",
    "    'Possibly same incident as 2000.08.21': 'Afternoon',\n",
    "    'Noon': 'Afternoon',\n",
    "    '17h40': 'Afternoon',\n",
    "    '11h25': 'Morning',\n",
    "    '18h25': 'Afternoon',\n",
    "    '10h28': 'Morning',\n",
    "    '09h15': 'Morning',\n",
    "    '20h15': 'Night',\n",
    "    '14h16': 'Afternoon',\n",
    "    '09h55': 'Morning',\n",
    "    '2 hours after Opperman': 'Morning',\n",
    "    '15h05': 'Afternoon',\n",
    "    '09h30 ': 'Morning',\n",
    "    '11h00 / 11h30': 'Morning',\n",
    "    '07h19': 'Morning',\n",
    "    '11h06': 'Morning',\n",
    "    '\"Night\"': 'Night',\n",
    "    '18h30?': 'Afternoon',\n",
    "    '11h58': 'Morning',\n",
    "    '11h51': 'Morning',\n",
    "    '18h12': 'Afternoon',\n",
    "    '07h10': 'Morning',\n",
    "    'A.M.': 'Morning',\n",
    "    '07h40': 'Morning',\n",
    "    '12h33': 'Afternoon',\n",
    "    '>06h45': 'Morning',\n",
    "    '15h06': 'Afternoon',\n",
    "    '12h54': 'Afternoon',\n",
    "    '16h35': 'Afternoon',\n",
    "    'Between 06h00 & 07h20': 'Morning',\n",
    "    '16h55': 'Afternoon',\n",
    "    '16h50': 'Afternoon',\n",
    "    '05h40': 'Morning',\n",
    "    '21h30': 'Night',\n",
    "    'X': 'Unknown',\n",
    "    '08h57': 'Morning',\n",
    "    '06j00': 'Morning',\n",
    "    '08h35': 'Morning',\n",
    "    '04h00': 'Night',\n",
    "    '10h20': 'Morning',\n",
    "    '18h10': 'Afternoon',\n",
    "    '03h00': 'Night',\n",
    "    'Mid-morning': 'Morning',\n",
    "    '16h30 or 18h00': 'Afternoon',\n",
    "    '14h00': 'Afternoon',\n",
    "    'Daytime': 'Afternoon',\n",
    "    '12h48': 'Afternoon',\n",
    "    '06h50': 'Morning',\n",
    "    '18h40': 'Afternoon',\n",
    "    '01h00': 'Night',\n",
    "    'Dark': 'Night',\n",
    "    '10h00 / 11h00': 'Morning',\n",
    "    '\"After lunch\"': 'Afternoon',\n",
    "    '07h32': 'Morning',\n",
    "    '15h00 or 15h45': 'Afternoon',\n",
    "    '>17h00': 'Afternoon',\n",
    "    '19h00 / 20h00': 'Afternoon',\n",
    "    'Dawn': 'Morning',\n",
    "    '12h45 / 13h45': 'Afternoon',\n",
    "    '14h00 - 15h00': 'Afternoon',\n",
    "    '13h10': 'Afternoon',\n",
    "    '09h30 / 15h30': 'Morning',\n",
    "    '08h00 / 09h30': 'Morning',\n",
    "    '19h35': 'Afternoon',\n",
    "    'Late night': 'Night',\n",
    "    '10h30 or 13h30': 'Morning',\n",
    "    '17h10': 'Afternoon',\n",
    "    '16h23': 'Afternoon',\n",
    "    '13h05': 'Afternoon',\n",
    "    '\"After dark\"': 'Night',\n",
    "    '10h00 or 14h00': 'Morning',\n",
    "    '1500': 'Afternoon',\n",
    "    '>14h30': 'Afternoon',\n",
    "    'After dusk': 'Night',\n",
    "    'Late afternon': 'Afternoon',\n",
    "    'Late Afternoon': 'Afternoon',\n",
    "    '   ': 'Unknown',\n",
    "    'dusk': 'Night',\n",
    "    '01h50': 'Night'\n",
    "}\n",
    "\n",
    "df['Time'] = df['Time'].map(time_mapping)\n",
    "df['Time'] = df['Time'].fillna(\"Unknown\")"
   ]
  },
  {
   "cell_type": "code",
   "execution_count": 23,
   "id": "2ab4d0a8",
   "metadata": {},
   "outputs": [
    {
     "data": {
      "text/plain": [
       "array(['Afternoon', 'Unknown', 'Morning', 'Night'], dtype=object)"
      ]
     },
     "execution_count": 23,
     "metadata": {},
     "output_type": "execute_result"
    }
   ],
   "source": [
    "df['Time'].unique()"
   ]
  },
  {
   "cell_type": "code",
   "execution_count": 24,
   "id": "063311fc",
   "metadata": {},
   "outputs": [
    {
     "data": {
      "text/plain": [
       "0         2018.06.25\n",
       "3         2018.06.08\n",
       "4         2018.06.04\n",
       "6       2018.06.03.a\n",
       "7         2018.05.27\n",
       "            ...     \n",
       "6276         ND.0026\n",
       "6293         ND.0009\n",
       "6294         ND.0008\n",
       "6295         ND.0007\n",
       "6296         ND.0006\n",
       "Name: Case Number, Length: 3242, dtype: object"
      ]
     },
     "execution_count": 24,
     "metadata": {},
     "output_type": "execute_result"
    }
   ],
   "source": [
    "df['Case Number'].astype(str)"
   ]
  },
  {
   "cell_type": "markdown",
   "id": "81c35030",
   "metadata": {},
   "source": [
    "**NÚMERO DE CASO**"
   ]
  },
  {
   "cell_type": "code",
   "execution_count": 36,
   "id": "40f654c7",
   "metadata": {},
   "outputs": [],
   "source": [
    "# Indexamos la columna para sus valores únicos. En este caso se podría prescendir de las otras dos columnas con el mismo nombre\n",
    "# ya que son prácticamente idénticas. No lo haremos.\n",
    "\n",
    "df['Case Number'] = [int(e) for e in range(1, len(df)+1)]\n",
    "\n"
   ]
  },
  {
   "cell_type": "markdown",
   "id": "a7542d54",
   "metadata": {},
   "source": [
    "**FECHA**"
   ]
  },
  {
   "cell_type": "code",
   "execution_count": 37,
   "id": "1b1ba229",
   "metadata": {},
   "outputs": [
    {
     "ename": "NameError",
     "evalue": "name 'nuevos_valores' is not defined",
     "output_type": "error",
     "traceback": [
      "\u001b[1;31m---------------------------------------------------------------------------\u001b[0m",
      "\u001b[1;31mNameError\u001b[0m                                 Traceback (most recent call last)",
      "Cell \u001b[1;32mIn[37], line 5\u001b[0m\n\u001b[0;32m      1\u001b[0m \u001b[38;5;66;03m# Corregimos los caracteres especiales\u001b[39;00m\n\u001b[0;32m      3\u001b[0m df[\u001b[38;5;124m'\u001b[39m\u001b[38;5;124mDate\u001b[39m\u001b[38;5;124m'\u001b[39m] \u001b[38;5;241m=\u001b[39m df[\u001b[38;5;124m'\u001b[39m\u001b[38;5;124mDate\u001b[39m\u001b[38;5;124m'\u001b[39m]\u001b[38;5;241m.\u001b[39mstr\u001b[38;5;241m.\u001b[39mextract(\u001b[38;5;124m'\u001b[39m\u001b[38;5;124m^(\u001b[39m\u001b[38;5;124m\\\u001b[39m\u001b[38;5;124md\u001b[39m\u001b[38;5;132;01m{4}\u001b[39;00m\u001b[38;5;124m\\\u001b[39m\u001b[38;5;124m.\u001b[39m\u001b[38;5;124m\\\u001b[39m\u001b[38;5;124md\u001b[39m\u001b[38;5;132;01m{2}\u001b[39;00m\u001b[38;5;124m\\\u001b[39m\u001b[38;5;124m.\u001b[39m\u001b[38;5;124m\\\u001b[39m\u001b[38;5;124md\u001b[39m\u001b[38;5;132;01m{2}\u001b[39;00m\u001b[38;5;124m)\u001b[39m\u001b[38;5;124m'\u001b[39m, expand\u001b[38;5;241m=\u001b[39m\u001b[38;5;28;01mFalse\u001b[39;00m)\n\u001b[1;32m----> 5\u001b[0m df[\u001b[38;5;124m'\u001b[39m\u001b[38;5;124mDate\u001b[39m\u001b[38;5;124m'\u001b[39m]\u001b[38;5;241m.\u001b[39mupdate(pd\u001b[38;5;241m.\u001b[39mSeries(nuevos_valores))\n",
      "\u001b[1;31mNameError\u001b[0m: name 'nuevos_valores' is not defined"
     ]
    }
   ],
   "source": [
    "# Corregimos los caracteres especiales\n",
    "\n",
    "df['Date'] = df['Date'].str.extract('^(\\d{4}\\.\\d{2}\\.\\d{2})', expand=False)\n",
    "\n",
    "df['Date'].update(pd.Series(nuevos_valores))\n"
   ]
  },
  {
   "cell_type": "code",
   "execution_count": 38,
   "id": "b05174ea",
   "metadata": {},
   "outputs": [],
   "source": [
    "df['Year'] = df['Year'].replace(0, np.nan)"
   ]
  },
  {
   "cell_type": "markdown",
   "id": "29a6539a",
   "metadata": {},
   "source": [
    "**OTRAS COLUMNAS**"
   ]
  },
  {
   "cell_type": "code",
   "execution_count": 28,
   "id": "b729a192",
   "metadata": {},
   "outputs": [],
   "source": [
    "df.loc[:,\"Unnamed: 22\"] = \"Unknown\"\n",
    "\n",
    "df.loc[:,\"Unnamed: 23\"] = \"Unknown\""
   ]
  },
  {
   "cell_type": "markdown",
   "id": "fed076f7",
   "metadata": {},
   "source": [
    "# ANÁLISIS DE ATAQUES DE TIBURONES"
   ]
  },
  {
   "cell_type": "markdown",
   "id": "4fd0a0c6",
   "metadata": {},
   "source": [
    "**TOP 3 PAÍSES** DONDE SE PRODUCEN MÁS **ATAQUES DE TIBURONES**"
   ]
  },
  {
   "cell_type": "code",
   "execution_count": 29,
   "id": "e80f3439",
   "metadata": {},
   "outputs": [
    {
     "data": {
      "text/plain": [
       "Country\n",
       "USA             1248\n",
       "AUSTRALIA        758\n",
       "SOUTH AFRICA     392\n",
       "BAHAMAS           74\n",
       "NEW ZEALAND       72\n",
       "Name: count, dtype: int64"
      ]
     },
     "execution_count": 29,
     "metadata": {},
     "output_type": "execute_result"
    }
   ],
   "source": [
    "attack_counts = df['Country'].value_counts()\n",
    "attack_counts.head()"
   ]
  },
  {
   "cell_type": "markdown",
   "id": "5f8b620f",
   "metadata": {},
   "source": [
    "¿QUÉ **SEXO** SUFRE MÁS **ATAQUES**?"
   ]
  },
  {
   "cell_type": "code",
   "execution_count": 30,
   "id": "caea5e9a",
   "metadata": {},
   "outputs": [
    {
     "data": {
      "text/html": [
       "<div>\n",
       "<style scoped>\n",
       "    .dataframe tbody tr th:only-of-type {\n",
       "        vertical-align: middle;\n",
       "    }\n",
       "\n",
       "    .dataframe tbody tr th {\n",
       "        vertical-align: top;\n",
       "    }\n",
       "\n",
       "    .dataframe thead th {\n",
       "        text-align: right;\n",
       "    }\n",
       "</style>\n",
       "<table border=\"1\" class=\"dataframe\">\n",
       "  <thead>\n",
       "    <tr style=\"text-align: right;\">\n",
       "      <th>Fatal (Y/N)</th>\n",
       "      <th>N</th>\n",
       "      <th>Y</th>\n",
       "    </tr>\n",
       "    <tr>\n",
       "      <th>Sex</th>\n",
       "      <th></th>\n",
       "      <th></th>\n",
       "    </tr>\n",
       "  </thead>\n",
       "  <tbody>\n",
       "    <tr>\n",
       "      <th>F</th>\n",
       "      <td>257</td>\n",
       "      <td>53</td>\n",
       "    </tr>\n",
       "    <tr>\n",
       "      <th>M</th>\n",
       "      <td>1993</td>\n",
       "      <td>342</td>\n",
       "    </tr>\n",
       "  </tbody>\n",
       "</table>\n",
       "</div>"
      ],
      "text/plain": [
       "Fatal (Y/N)     N    Y\n",
       "Sex                   \n",
       "F             257   53\n",
       "M            1993  342"
      ]
     },
     "execution_count": 30,
     "metadata": {},
     "output_type": "execute_result"
    }
   ],
   "source": [
    "filtered_df = df[(df['Fatal (Y/N)'].isin(['Y', 'N'])) & (df['Sex '].isin(['M', 'F']))]\n",
    "contingency_table = pd.crosstab(filtered_df['Fatal (Y/N)'], filtered_df['Sex '])\n",
    "contingency_table.T"
   ]
  },
  {
   "cell_type": "markdown",
   "id": "9970a29b",
   "metadata": {},
   "source": [
    "¿QUÉ **SEXO** TIENE MAYOR **PORCENTAJE DE MORTALIDAD**?"
   ]
  },
  {
   "cell_type": "code",
   "execution_count": 31,
   "id": "9a97cbac",
   "metadata": {},
   "outputs": [
    {
     "data": {
      "text/html": [
       "<div>\n",
       "<style scoped>\n",
       "    .dataframe tbody tr th:only-of-type {\n",
       "        vertical-align: middle;\n",
       "    }\n",
       "\n",
       "    .dataframe tbody tr th {\n",
       "        vertical-align: top;\n",
       "    }\n",
       "\n",
       "    .dataframe thead th {\n",
       "        text-align: right;\n",
       "    }\n",
       "</style>\n",
       "<table border=\"1\" class=\"dataframe\">\n",
       "  <thead>\n",
       "    <tr style=\"text-align: right;\">\n",
       "      <th>Sex</th>\n",
       "      <th>F</th>\n",
       "      <th>M</th>\n",
       "    </tr>\n",
       "    <tr>\n",
       "      <th>Fatal (Y/N)</th>\n",
       "      <th></th>\n",
       "      <th></th>\n",
       "    </tr>\n",
       "  </thead>\n",
       "  <tbody>\n",
       "    <tr>\n",
       "      <th>N</th>\n",
       "      <td>72.598870</td>\n",
       "      <td>76.831149</td>\n",
       "    </tr>\n",
       "    <tr>\n",
       "      <th>UNKNOWN</th>\n",
       "      <td>12.429379</td>\n",
       "      <td>9.984580</td>\n",
       "    </tr>\n",
       "    <tr>\n",
       "      <th>Y</th>\n",
       "      <td>14.971751</td>\n",
       "      <td>13.184271</td>\n",
       "    </tr>\n",
       "  </tbody>\n",
       "</table>\n",
       "</div>"
      ],
      "text/plain": [
       "Sex                  F          M\n",
       "Fatal (Y/N)                      \n",
       "N            72.598870  76.831149\n",
       "UNKNOWN      12.429379   9.984580\n",
       "Y            14.971751  13.184271"
      ]
     },
     "execution_count": 31,
     "metadata": {},
     "output_type": "execute_result"
    }
   ],
   "source": [
    "filtered_df = df[(df['Sex '].isin(['M', 'F'])) & (df['Fatal (Y/N)'] != 'Unknown')]\n",
    "\n",
    "grouped = filtered_df.groupby('Sex ')\n",
    "\n",
    "indices_sexo = (grouped['Fatal (Y/N)'].value_counts(normalize=True) * 100).unstack()\n",
    "\n",
    "indices_sexo.T"
   ]
  },
  {
   "cell_type": "markdown",
   "id": "476a2cca",
   "metadata": {},
   "source": [
    "¿CUÁL ES EL **INDICE DE FATALIDAD**?"
   ]
  },
  {
   "cell_type": "code",
   "execution_count": 32,
   "id": "18850b07",
   "metadata": {},
   "outputs": [
    {
     "data": {
      "text/plain": [
       "12.924120913016656"
      ]
     },
     "execution_count": 32,
     "metadata": {},
     "output_type": "execute_result"
    }
   ],
   "source": [
    "incidentes_fatales = df['Fatal (Y/N)'].value_counts().get('Y', 0)\n",
    "\n",
    "incidentes_totales = df['Fatal (Y/N)'].count()\n",
    "\n",
    "indice_fatalidad = (incidentes_fatales / incidentes_totales) * 100\n",
    "\n",
    "indice_fatalidad\n"
   ]
  },
  {
   "cell_type": "markdown",
   "id": "8d7e5272",
   "metadata": {},
   "source": [
    "¿EN QUÉ **MOMENTO DEL DÍA** SE PRODUCEN MÁS ATAQUES?"
   ]
  },
  {
   "cell_type": "code",
   "execution_count": 33,
   "id": "e355ba3b",
   "metadata": {},
   "outputs": [
    {
     "data": {
      "text/plain": [
       "Time\n",
       "Unknown      1414\n",
       "Afternoon    1062\n",
       "Morning       664\n",
       "Night         102\n",
       "Name: count, dtype: int64"
      ]
     },
     "execution_count": 33,
     "metadata": {},
     "output_type": "execute_result"
    }
   ],
   "source": [
    "df['Time'].value_counts()"
   ]
  },
  {
   "cell_type": "markdown",
   "id": "28a92d27",
   "metadata": {},
   "source": [
    "¿QUÉ ESPECIA ES MÁS **AGRESIVA**?"
   ]
  },
  {
   "cell_type": "code",
   "execution_count": 34,
   "id": "2633da95",
   "metadata": {},
   "outputs": [
    {
     "data": {
      "text/plain": [
       "Species \n",
       "Shark                 1526\n",
       "White Shark            667\n",
       "Tiger Shark            283\n",
       "Bull Shark             175\n",
       "Blacktip Shark         101\n",
       "Nurse Shark             97\n",
       "Bronze Shark            64\n",
       "Blue Shark              56\n",
       "Mako Shark              54\n",
       "Reef Shark              51\n",
       "Wobbegong Shark         50\n",
       "Hammerhead Shark        48\n",
       "Lemon Shark             37\n",
       "Spinner Shark           21\n",
       "Galapagos Shark          7\n",
       "Silky Shark              4\n",
       "Cookiecutter Shark       1\n",
       "Name: count, dtype: int64"
      ]
     },
     "execution_count": 34,
     "metadata": {},
     "output_type": "execute_result"
    }
   ],
   "source": [
    "df['Species '].value_counts()"
   ]
  },
  {
   "cell_type": "markdown",
   "id": "c22f4808",
   "metadata": {},
   "source": [
    "¿QUÉ ESPECIE TIENE EL MAYOR PORCENTAJE DE **LETALIDAD**?"
   ]
  },
  {
   "cell_type": "code",
   "execution_count": 35,
   "id": "935272f3",
   "metadata": {},
   "outputs": [
    {
     "data": {
      "image/png": "[encoded data removed]",
      "text/plain": [
       "<Figure size 640x480 with 1 Axes>"
      ]
     },
     "metadata": {},
     "output_type": "display_data"
    }
   ],
   "source": [
    "import matplotlib.pyplot as plt\n",
    "contingency_table = pd.crosstab(filtered_df['Species '], filtered_df['Fatal (Y/N)'])\n",
    "contingency_table_percentage = contingency_table.div(contingency_table.sum(1), axis=0) * 100\n",
    "contingency_table_percentage.plot(kind='bar', stacked=True, title='Distribución de Letalidad por Especie (en %)')\n",
    "plt.xlabel('Especie de Tiburón')\n",
    "plt.ylabel('Porcentaje de Casos')\n",
    "plt.show()"
   ]
  },
  {
   "cell_type": "markdown",
   "id": "a4547dc0",
   "metadata": {},
   "source": [
    "![Tiburon de las Galápagos](https://upload.wikimedia.org/wikipedia/commons/5/53/Carcharinus_galapagensis_1.jpg)"
   ]
  },
  {
   "cell_type": "code",
   "execution_count": 39,
   "id": "db29a458",
   "metadata": {},
   "outputs": [
    {
     "data": {
      "text/plain": [
       "Case Number                25936\n",
       "Date                      103814\n",
       "Year                       25936\n",
       "Type                      214685\n",
       "Country                   207241\n",
       "Area                      223719\n",
       "Location                  260667\n",
       "Activity                  226024\n",
       "Name                      232945\n",
       "Sex                       189784\n",
       "Age                       158514\n",
       "Injury                    299470\n",
       "Fatal (Y/N)               190178\n",
       "Time                      209408\n",
       "Species                   211848\n",
       "Investigator or Source    293606\n",
       "pdf                       260787\n",
       "href formula              435750\n",
       "href                      436406\n",
       "Case Number.1             219124\n",
       "Case Number.2             219124\n",
       "original order             25936\n",
       "Unnamed: 22               207488\n",
       "Unnamed: 23               207488\n",
       "dtype: int64"
      ]
     },
     "execution_count": 39,
     "metadata": {},
     "output_type": "execute_result"
    }
   ],
   "source": [
    "df.memory_usage(deep = True, index = False)  #Intento de optimización (\"sale regular\")"
   ]
  },
  {
   "cell_type": "code",
   "execution_count": 40,
   "id": "ea8a8e28",
   "metadata": {},
   "outputs": [
    {
     "data": {
      "text/plain": [
       "Case Number                 int64\n",
       "Date                       object\n",
       "Year                      float64\n",
       "Type                       object\n",
       "Country                    object\n",
       "Area                       object\n",
       "Location                   object\n",
       "Activity                   object\n",
       "Name                       object\n",
       "Sex                        object\n",
       "Age                        object\n",
       "Injury                     object\n",
       "Fatal (Y/N)                object\n",
       "Time                       object\n",
       "Species                    object\n",
       "Investigator or Source     object\n",
       "pdf                        object\n",
       "href formula               object\n",
       "href                       object\n",
       "Case Number.1              object\n",
       "Case Number.2              object\n",
       "original order            float64\n",
       "Unnamed: 22                object\n",
       "Unnamed: 23                object\n",
       "dtype: object"
      ]
     },
     "execution_count": 40,
     "metadata": {},
     "output_type": "execute_result"
    }
   ],
   "source": [
    "df.dtypes"
   ]
  },
  {
   "cell_type": "code",
   "execution_count": 42,
   "id": "3be90f15",
   "metadata": {},
   "outputs": [],
   "source": [
    "df[\"Case Number\"] = df[\"Case Number\"].astype(\"int8\")\n",
    "df[\"Year\"] = df[\"Year\"].astype(\"float32\")\n",
    "df[\"original order\"] = df[\"original order\"].astype(\"float32\")"
   ]
  },
  {
   "cell_type": "code",
   "execution_count": 43,
   "id": "ba0ca9e8",
   "metadata": {},
   "outputs": [
    {
     "data": {
      "text/plain": [
       "Case Number                 3242\n",
       "Date                      103814\n",
       "Year                       12968\n",
       "Type                      214685\n",
       "Country                   207241\n",
       "Area                      223719\n",
       "Location                  260667\n",
       "Activity                  226024\n",
       "Name                      232945\n",
       "Sex                       189784\n",
       "Age                       158514\n",
       "Injury                    299470\n",
       "Fatal (Y/N)               190178\n",
       "Time                      209408\n",
       "Species                   211848\n",
       "Investigator or Source    293606\n",
       "pdf                       260787\n",
       "href formula              435750\n",
       "href                      436406\n",
       "Case Number.1             219124\n",
       "Case Number.2             219124\n",
       "original order             12968\n",
       "Unnamed: 22               207488\n",
       "Unnamed: 23               207488\n",
       "dtype: int64"
      ]
     },
     "execution_count": 43,
     "metadata": {},
     "output_type": "execute_result"
    }
   ],
   "source": [
    "df.memory_usage(deep = True, index = False)"
   ]
  },
  {
   "cell_type": "code",
   "execution_count": null,
   "id": "16546dbf",
   "metadata": {},
   "outputs": [],
   "source": []
  }
 ],
 "metadata": {
  "kernelspec": {
   "display_name": "Python 3 (ipykernel)",
   "language": "python",
   "name": "python3"
  },
  "language_info": {
   "codemirror_mode": {
    "name": "ipython",
    "version": 3
   },
   "file_extension": ".py",
   "mimetype": "text/x-python",
   "name": "python",
   "nbconvert_exporter": "python",
   "pygments_lexer": "ipython3",
   "version": "3.11.5"
  }
 },
 "nbformat": 4,
 "nbformat_minor": 5
}
